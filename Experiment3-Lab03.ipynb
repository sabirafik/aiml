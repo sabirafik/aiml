{
 "cells": [
  {
   "cell_type": "markdown",
   "metadata": {},
   "source": [
    "# Session 3\n",
    "## Experiment 1\n",
    "### Lab3"
   ]
  },
  {
   "cell_type": "markdown",
   "metadata": {},
   "source": [
    "*After completing this exercise please complete the Check For Understanding questions in the LMS*"
   ]
  },
  {
   "cell_type": "markdown",
   "metadata": {},
   "source": [
    "# Part1: Binary Classification Problem"
   ]
  },
  {
   "cell_type": "markdown",
   "metadata": {},
   "source": [
    "### Data Source\n",
    "In this experiment, we will use the CIFAR-10 dataset consists of 60,000 32x32 colour images in 10 classes, with 6000 images per class. There are 50,000 training images and 10,000 test images.\n",
    "\n",
    "https://www.cs.toronto.edu/~kriz/cifar.html\n"
   ]
  },
  {
   "cell_type": "markdown",
   "metadata": {},
   "source": [
    "The images have been downloaded and unzipped for you in the directory cifar-10\n",
    "\n",
    "They are in a particular python-specific format called pickle. You need not worry about the format's internals, as the site has given the code needed to read such files. The code is given in the first code block below.\n",
    "\n",
    "**The code returns the contents of each data file as a dictionary**."
   ]
  },
  {
   "cell_type": "markdown",
   "metadata": {},
   "source": [
    "## Quick look at the data\n",
    "\n",
    "There are 8 files in the cifar-10 directory.\n",
    "\n",
    "batches.meta\n",
    "\n",
    "data_batch_1\n",
    "\n",
    "data_batch_2\t\n",
    "\n",
    "data_batch_3\n",
    "\n",
    "data_batch_4\t\n",
    "\n",
    "data_batch_5\n",
    "\n",
    "readme.html\n",
    "\n",
    "test_batch\n",
    "\n",
    "We will take a peek at these files."
   ]
  },
  {
   "cell_type": "code",
   "execution_count": null,
   "metadata": {},
   "outputs": [],
   "source": [
    "import numpy as np\n",
    "import matplotlib.pyplot as plt\n",
    "import os\n",
    "\n",
    "# Special function to read special files\n",
    "def unpickle(file):\n",
    "    import pickle\n",
    "    with open(file, 'rb') as fo:\n",
    "        dict = pickle.load(fo, encoding='latin1')\n",
    "    return dict"
   ]
  },
  {
   "cell_type": "markdown",
   "metadata": {},
   "source": [
    "**data** a 10,000x3072 numpy array of uint8s. Each row of the array stores a 32x32 colour image. The first 1024 entries contain the red channel values, the next 1024 the green, and the final 1024 the blue. The image is stored in row-major order, so that the first 32 entries of the array are the red channel values of the first row of the image.\n",
    "\n",
    "**labels** a list of 10,000 numbers in the range 0-9. The number at index i indicates the label of the ith image in the array data."
   ]
  },
  {
   "cell_type": "markdown",
   "metadata": {},
   "source": [
    "## Visualize the Dataset"
   ]
  },
  {
   "cell_type": "code",
   "execution_count": null,
   "metadata": {},
   "outputs": [],
   "source": [
    "## Visualize the images in CIFAR-10 Dataset\n",
    "## Here get_data unpickles the CIFAR Dataset and stores the data as 10000*3072 dimension in array X \n",
    "## and labels as 10000*1 dimension in array Y. \n",
    "## Visualize function shows the image corresponding to id number.\n",
    "\n",
    "def get_data(file):\n",
    "    dict = unpickle(file)\n",
    "    X = np.asarray(dict['data']).astype(\"uint8\")\n",
    "    Y = np.asarray(dict['labels'])\n",
    "    names = np.asarray(dict['filenames'])\n",
    "    list_class=(unpickle(\"cifar-10/batches.meta\")['label_names'])\n",
    "    return X,Y,names,list_class\n",
    "                     \n",
    "\n",
    "def visualize_image(X, Y, names, image_id):\n",
    "    rgb = X[image_id,:]\n",
    "    img = rgb.reshape(3, 32, 32).transpose([1, 2, 0])\n",
    "    print(img.shape)\n",
    "    plt.imshow(img)\n",
    "    plt.title(names[image_id])\n",
    "    plt.show()\n",
    "\n",
    "# Read image\n",
    "X, Y, names, classes = get_data(\"cifar-10/data_batch_3\")\n",
    "# Visualize the 10th image\n",
    "pick = 10\n",
    "print(\"Class =\",classes[Y[pick]])\n",
    "visualize_image(X, Y, names, pick)"
   ]
  },
  {
   "cell_type": "markdown",
   "metadata": {},
   "source": [
    "We shall run a linear classifier. You can look at the code that calculates weights for the optimal line in \"perceptron_sgd\"."
   ]
  },
  {
   "cell_type": "code",
   "execution_count": null,
   "metadata": {},
   "outputs": [],
   "source": [
    "## Linear classifier code -\n",
    "# code to estimate optimal linear boundary,\n",
    "# classify train data by estimating the optimal linear boundary,\n",
    "# predict labels based on linear boundary,\n",
    "# and compute the accuracy of the classification\n",
    "\n",
    "# code to estimate optimal linear boundary (can ignore for now),\n",
    "def perceptron_sgd(X, Y):\n",
    "    w = np.zeros(len(X[0]))\n",
    "    eta = 0.01 # learning rate\n",
    "    epochs = 100\n",
    "    for t in range(epochs):\n",
    "        if (t+1) % 50 == 0:\n",
    "            print(\"Running Epoch #\", t+1)\n",
    "            # print(\"acc:\", compute_accuracy(predict(X[:, :-1], w), Y))\n",
    "        for i, x in enumerate(X):\n",
    "            if (np.dot(X[i], w) * Y[i]) <= 0:\n",
    "                w = w + eta * X[i] * Y[i]\n",
    "        eta *= 0.75\n",
    "    return w\n",
    "\n",
    "# classify train data by estimating the optimal linear boundary,\n",
    "def classify(train_feat, train_labels):\n",
    "    ## mapping first label to -1 and second to +1\n",
    "    labels = np.sort(np.unique(train_labels))\n",
    "    lmap = {labels[0] : -1, labels[1] : 1}\n",
    "    l = [lmap[i] for i in train_labels]     \n",
    "    ## appending 1 to train features\n",
    "    add_one2train = np.ones((len(train_feat), 1))\n",
    "    append_train_features = np.hstack((np.asarray(train_feat), add_one2train))\n",
    "    w = perceptron_sgd(append_train_features, l)\n",
    "    return w\n",
    "\n",
    "# predict labels based on linear boundary,\n",
    "def predict(features, w):\n",
    "    ##appending 1 to test features\n",
    "    add_one = np.ones((len(features),1))\n",
    "    append_features = np.hstack((np.asarray(features), add_one))\n",
    "    pred = np.dot(append_features, w)\n",
    "    return pred\n",
    "\n",
    "# compute the accuracy of the classification\n",
    "def compute_accuracy(pred, test_labels):\n",
    "    # To make it general, let us find the unique set of labels in test_labels\n",
    "    # (could be \"apples\" and \"oranges\", or \"1\" and \"2\"),\n",
    "    labels = np.sort(np.unique(test_labels))\n",
    "    # and then assign -1 and 1 to these unique labels\n",
    "    lmap = {labels[0] : -1, labels[1] : 1}\n",
    "    # Let's now convert the labels to -1 and 1\n",
    "    l = [lmap[i] for i in test_labels]\n",
    "    # Let us find the accuracy\n",
    "    p = []\n",
    "    for i in range(len(pred)):\n",
    "        p.append(1 if pred[i] >= 0 else -1)\n",
    "    acc = np.mean(np.asarray(p) == np.asarray(l))\n",
    "    return acc"
   ]
  },
  {
   "cell_type": "code",
   "execution_count": null,
   "metadata": {},
   "outputs": [],
   "source": [
    "# Function for binary classification\n",
    "def one_vs_one_classifier_ours(train_features, train_labels):\n",
    "    w = classify(train_features, train_labels)\n",
    "    return w\n",
    "\n",
    "def calc_accuracy(X_test, Y_test, w):\n",
    "    pred = predict(X_test, w)\n",
    "    accuracy = compute_accuracy(pred, Y_test)\n",
    "    print(\"accuracy =\", accuracy)"
   ]
  },
  {
   "cell_type": "markdown",
   "metadata": {},
   "source": [
    "## Task\n",
    "To study the effect of different features on binary classification.  "
   ]
  },
  {
   "cell_type": "markdown",
   "metadata": {},
   "source": [
    "### Feature type 1: Raw Intensity values of RGB \n",
    "Use Intensity values of RGB as intensity features. For this use the raw intensity features extracted above."
   ]
  },
  {
   "cell_type": "code",
   "execution_count": null,
   "metadata": {},
   "outputs": [],
   "source": [
    "## Unpickling the data and labels from CIFAR-10 Dataset,\n",
    "## and Preparing the raw features for training and test data.\n",
    "\n",
    "X_train = []\n",
    "Y_train = []\n",
    "# Read all training features and labels\n",
    "for j in \"12345\": \n",
    "    batch_file = 'cifar-10/data_batch_'+ j\n",
    "    x_train, y_train, names_train, classes_train = get_data(batch_file)\n",
    "    X_train.extend(x_train)\n",
    "    Y_train.extend(y_train)\n",
    "\n",
    "X_train = np.asarray(X_train)\n",
    "Y_train = np.asarray(Y_train)\n",
    "\n",
    "# Read all test features and labels\n",
    "X_test, Y_test, names_test, classes_test = get_data(\"cifar-10/test_batch\")"
   ]
  },
  {
   "cell_type": "markdown",
   "metadata": {},
   "source": [
    "Now, select only classes #5 and #7, and make a linear classifier for these two classes. "
   ]
  },
  {
   "cell_type": "code",
   "execution_count": null,
   "metadata": {},
   "outputs": [],
   "source": [
    "def extract_2classes(class0, class1, X, Y):\n",
    "    # Select class #0\n",
    "    X_0 = X[Y == class0]\n",
    "    Y_0 = Y[Y == class0]\n",
    "    # Select class #1\n",
    "    X_1 = X[Y == class1]\n",
    "    Y_1 = Y[Y == class1]\n",
    "    # Join the two classes to make the set\n",
    "    X_2classes = np.vstack((X_0, X_1))\n",
    "    Y_2classes = np.append(Y_0, Y_1)\n",
    "    return X_2classes, Y_2classes"
   ]
  },
  {
   "cell_type": "code",
   "execution_count": null,
   "metadata": {},
   "outputs": [],
   "source": [
    "# Select classes #5 and #7\n",
    "X_train_2classes, Y_train_2classes = extract_2classes(5, 7, X_train, Y_train)\n",
    "X_test_2classes, Y_test_2classes = extract_2classes(5, 7, X_test, Y_test)"
   ]
  },
  {
   "cell_type": "code",
   "execution_count": null,
   "metadata": {},
   "outputs": [],
   "source": [
    "# Binary classification for classes 1 and 2 using hand features\n",
    "w = one_vs_one_classifier_ours(X_train_2classes, Y_train_2classes)\n",
    "\n",
    "# Find accuracy\n",
    "calc_accuracy(X_test_2classes, Y_test_2classes, w)"
   ]
  },
  {
   "cell_type": "markdown",
   "metadata": {},
   "source": [
    "### Feature type 2: Hand crafted features\n",
    "For this we extracted 9 dimension feature for each image. Feature consist of min,max and mean intensity values for RGB channel."
   ]
  },
  {
   "cell_type": "code",
   "execution_count": null,
   "metadata": {},
   "outputs": [],
   "source": [
    "## Hand crafted features. For this we extracted 9 dimension feature for each image.\n",
    "## Feature consist of min, max and mean intensity values for RGB channel.\n",
    "\n",
    "# Extract min, max and mean of R, G, and B in each image\n",
    "# in train\n",
    "def extract_RGB_min_max_mean(X):\n",
    "    R, G, B = 1024, 2048, 3072\n",
    "    R_min = np.reshape(np.min(X[:, :R], axis=1), (len(X), 1))\n",
    "    R_max = np.reshape(np.max(X[:, :R], axis=1), (len(X), 1))\n",
    "    R_mean = np.reshape(np.mean(X[:, :R], axis=1), (len(X), 1))\n",
    "    G_min = np.reshape(np.min(X[:, R:G], axis=1), (len(X), 1))\n",
    "    G_max = np.reshape(np.max(X[:, R:G], axis=1), (len(X), 1))\n",
    "    G_mean = np.reshape(np.mean(X[:, R:G], axis=1), (len(X), 1))\n",
    "    B_min = np.reshape(np.min(X[:, G:B], axis=1), (len(X), 1))\n",
    "    B_max = np.reshape(np.max(X[:, G:B], axis=1), (len(X), 1))\n",
    "    B_mean = np.reshape(np.mean(X[:, G:B], axis=1), (len(X), 1))\n",
    "    return np.hstack((R_min, R_max, R_mean, G_min, G_max, G_mean, B_min, B_max, B_mean))\n",
    "\n",
    "head_features_train = extract_RGB_min_max_mean(X_train_2classes)\n",
    "head_features_test = extract_RGB_min_max_mean(X_test_2classes)"
   ]
  },
  {
   "cell_type": "code",
   "execution_count": null,
   "metadata": {},
   "outputs": [],
   "source": [
    "head_features_train.shape"
   ]
  },
  {
   "cell_type": "code",
   "execution_count": null,
   "metadata": {},
   "outputs": [],
   "source": [
    "# Binary classification for classes 1 and 2 using hand features\n",
    "w = one_vs_one_classifier_ours(head_features_train, Y_train_2classes)\n",
    "\n",
    "# Find accuracy\n",
    "calc_accuracy(head_features_test, Y_test_2classes, w)"
   ]
  },
  {
   "cell_type": "markdown",
   "metadata": {},
   "source": [
    "### Feature-type3: PCA Features\n",
    "Use PCA to reduce features high dimensionality features into low dimansionality features"
   ]
  },
  {
   "cell_type": "code",
   "execution_count": null,
   "metadata": {},
   "outputs": [],
   "source": [
    "## apply pca\n",
    "from sklearn.decomposition import PCA\n",
    "\n",
    "def extract_eigenvectors(k, X_train):\n",
    "    pca = PCA(n_components=k)\n",
    "    pca.fit(X_train)\n",
    "    eigen_vectors = pca.components_\n",
    "    return eigen_vectors, pca\n",
    "\n",
    "def make_pca_features(eigen_vectors, X):\n",
    "    return np.transpose(np.dot(eigen_vectors, np.transpose(X)))"
   ]
  },
  {
   "cell_type": "markdown",
   "metadata": {},
   "source": [
    "Let's try with k = 200."
   ]
  },
  {
   "cell_type": "code",
   "execution_count": null,
   "metadata": {},
   "outputs": [],
   "source": [
    "# Make pca features\n",
    "k = 200\n",
    "eigen_vectors, pca_object = extract_eigenvectors(k, X_train_2classes)\n",
    "pca_features_train_2classes = make_pca_features(eigen_vectors, X_train_2classes)\n",
    "pca_features_test_2classes = make_pca_features(eigen_vectors, X_test_2classes)"
   ]
  },
  {
   "cell_type": "code",
   "execution_count": null,
   "metadata": {},
   "outputs": [],
   "source": [
    "# Binary classification for classes 1 and 2 using hand features\n",
    "w = one_vs_one_classifier_ours(pca_features_train_2classes, Y_train_2classes)\n",
    "\n",
    "# Find accuracy\n",
    "calc_accuracy(pca_features_test_2classes, Y_test_2classes, w)"
   ]
  },
  {
   "cell_type": "code",
   "execution_count": null,
   "metadata": {},
   "outputs": [],
   "source": [
    "## Try different k values\n",
    "for k in [800, 1000, 1200, 1400]:\n",
    "    print(\"Training with k =\", k)\n",
    "    # Make pca features\n",
    "    eigen_vectors, pca_object = extract_eigenvectors(k, X_train_2classes)\n",
    "    pca_features_train = make_pca_features(eigen_vectors, X_train_2classes)\n",
    "    pca_features_test = make_pca_features(eigen_vectors, X_test_2classes)\n",
    "    # Binary classification for classes 1 and 2 using hand features\n",
    "    w = one_vs_one_classifier_ours(pca_features_train, Y_train_2classes)\n",
    "    # Find accuracy\n",
    "    calc_accuracy(pca_features_test, Y_test_2classes, w)"
   ]
  },
  {
   "cell_type": "markdown",
   "metadata": {},
   "source": [
    "### Feature type-4: Deep Features"
   ]
  },
  {
   "cell_type": "code",
   "execution_count": null,
   "metadata": {},
   "outputs": [],
   "source": [
    "# Load the deep features of images\n",
    "import scipy.io as sio\n",
    "import numpy as np\n",
    "features = sio.loadmat('cifar-10/cifar10features.mat')"
   ]
  },
  {
   "cell_type": "code",
   "execution_count": null,
   "metadata": {},
   "outputs": [],
   "source": [
    "# Extracting the deep features into training and testing\n",
    "deep_features_train = features['x_train']\n",
    "deep_labels_train = np.squeeze(np.transpose(features['y_train']))\n",
    "deep_features_test = features['x_test']\n",
    "deep_labels_test = np.squeeze(np.transpose(features['y_test']))\n",
    "print(deep_features_train.shape, deep_labels_train.shape, deep_features_test.shape, deep_labels_test.shape)"
   ]
  },
  {
   "cell_type": "code",
   "execution_count": null,
   "metadata": {},
   "outputs": [],
   "source": [
    "# Extract features of class0 and class1\n",
    "deep_features_train_2classes, deep_labels_train_2classes = extract_2classes(5, 7, deep_features_train, np.squeeze(deep_labels_train))\n",
    "deep_features_test_2classes, deep_labels_test_2classes = extract_2classes(5, 7, deep_features_test, np.squeeze(deep_labels_test))"
   ]
  },
  {
   "cell_type": "code",
   "execution_count": null,
   "metadata": {},
   "outputs": [],
   "source": [
    "# Binary classification for classes 1 and 2 using hand features\n",
    "w = one_vs_one_classifier_ours(deep_features_train_2classes, deep_labels_train_2classes)\n",
    "\n",
    "# Find accuracy\n",
    "calc_accuracy(deep_features_test_2classes, deep_labels_test_2classes, w)"
   ]
  },
  {
   "cell_type": "markdown",
   "metadata": {},
   "source": [
    "# Part2: Multi Classification(One Vs One Classifier)"
   ]
  },
  {
   "cell_type": "code",
   "execution_count": null,
   "metadata": {},
   "outputs": [],
   "source": [
    "# Raw features\n",
    "print(X_train.shape, X_test.shape)"
   ]
  },
  {
   "cell_type": "code",
   "execution_count": null,
   "metadata": {},
   "outputs": [],
   "source": [
    "# Extract hand features for full training and test sets\n",
    "head_features_train = extract_RGB_min_max_mean(X_train)\n",
    "head_features_test = extract_RGB_min_max_mean(X_test)"
   ]
  },
  {
   "cell_type": "code",
   "execution_count": null,
   "metadata": {},
   "outputs": [],
   "source": [
    "print(head_features_train.shape, head_features_test.shape)"
   ]
  },
  {
   "cell_type": "code",
   "execution_count": null,
   "metadata": {},
   "outputs": [],
   "source": [
    "# Extract pca features for full training and test sets\n",
    "# Make pca features, with k=200\n",
    "k = 200\n",
    "eigen_vectors, pca_object = extract_eigenvectors(k, X_train)\n",
    "pca_features_train = make_pca_features(eigen_vectors, X_train)\n",
    "pca_features_test = make_pca_features(eigen_vectors, X_test)"
   ]
  },
  {
   "cell_type": "code",
   "execution_count": null,
   "metadata": {},
   "outputs": [],
   "source": [
    "print(pca_features_train.shape, pca_features_test.shape)"
   ]
  },
  {
   "cell_type": "code",
   "execution_count": null,
   "metadata": {},
   "outputs": [],
   "source": [
    "# Deep features\n",
    "print(deep_features_train.shape, deep_features_test.shape)"
   ]
  },
  {
   "cell_type": "markdown",
   "metadata": {},
   "source": [
    "### Summarizing the extracted features:\n",
    "\n",
    "1. Raw Features: (X_train, Y_train), (X_test, Y_test))\n",
    "2. Hand made features: (hand_features_train, Y_train), (hand_features_test, Y_test))\n",
    "3. PCA Features: (pca_features_train, Y_train), (pca_features_test, Y_test))\n",
    "4. Deep Features (VGG): (deep_features_train, deep_labels_train), (deep_features_test, deep_labels_test))\n",
    "                  \n",
    "Use respective features for One Vs One Multiclass classification Problem."
   ]
  },
  {
   "cell_type": "code",
   "execution_count": null,
   "metadata": {},
   "outputs": [],
   "source": [
    "import itertools\n",
    "import operator\n",
    "import random\n",
    "import collections\n",
    "from scipy import stats\n",
    "from sklearn.metrics import accuracy_score\n",
    "\n",
    "def extract_two_classes(data, x,y):\n",
    "    xtrain = []\n",
    "    ytrain = []\n",
    "    merged = []\n",
    "    merged.extend(data[x])\n",
    "    merged.extend(data[y])\n",
    "    random.shuffle(merged)\n",
    "    xtrain = list(zip(*merged))[0]\n",
    "    ytrain = list(zip(*merged))[1]\n",
    "    return xtrain, ytrain\n",
    "\n",
    "def oneVsone(data, num_classes, test_sample):\n",
    "    weight = []\n",
    "    prediction = []\n",
    "    for i, j in list(itertools.combinations(range(num_classes), 2)):\n",
    "        print(\"Training for classes\", i, j)\n",
    "        xtrain, ytrain = extract_two_classes(data, i,j)\n",
    "        w = classify(xtrain, ytrain)\n",
    "        weight.append((w,(i,j)))\n",
    "        pred = []\n",
    "        preds = predict(test_sample, w)\n",
    "        for p in predict(test_sample, w):\n",
    "            if p > 0:\n",
    "                pred.append(j)\n",
    "            else:\n",
    "                pred.append(i)\n",
    "        prediction.append(pred)\n",
    "        res = stats.mode(np.asarray(prediction))[0]\n",
    "    return np.squeeze(res)\n",
    "\n",
    "\n",
    "def multiclass_classification(X_train, Y_train, X_test, Y_test):\n",
    "\n",
    "    ## Train features and labels you want to use\n",
    "    xtrain = X_train\n",
    "    ytrain = Y_train\n",
    "    ## Test features and labels you want to check on\n",
    "    xtest = X_test\n",
    "    ytest = Y_test\n",
    "\n",
    "    l = zip(xtrain,  ytrain)\n",
    "    #L.sort(key=lambda x: x[1])\n",
    "    L = sorted(l, key=lambda x: x[1])\n",
    "\n",
    "    it = itertools.groupby(L, operator.itemgetter(1))\n",
    "    All_classes = []\n",
    "\n",
    "    for key, subiter in it:\n",
    "#         print ('Class:', key)\n",
    "        data = []\n",
    "        for item in subiter:\n",
    "            data.append(item)\n",
    "        All_classes.append(data)\n",
    "\n",
    "    pred = oneVsone(All_classes, len(np.unique(Y_train)), xtest)\n",
    "    print(accuracy_score(ytest, pred))"
   ]
  },
  {
   "cell_type": "code",
   "execution_count": null,
   "metadata": {},
   "outputs": [],
   "source": [
    "# FEATURES & LABELS\n",
    "train_features = ??\n",
    "train_labels = ??\n",
    "test_features = ??\n",
    "test_labels = ??"
   ]
  },
  {
   "cell_type": "code",
   "execution_count": null,
   "metadata": {},
   "outputs": [],
   "source": [
    "multiclass_classification(train_features, train_labels, test_features, test_labels)"
   ]
  },
  {
   "cell_type": "markdown",
   "metadata": {},
   "source": [
    "# In case we want to use sklearn's library for *faster* multi-class linear classification:"
   ]
  },
  {
   "cell_type": "code",
   "execution_count": null,
   "metadata": {},
   "outputs": [],
   "source": [
    "actual_labels = np.array([(i, j) for i in range(10) for j in range(i+1, 10)]).T\n",
    "\n",
    "print(actual_labels)\n",
    "\n",
    "def extract_2classes_with_binary_labels(i, j, X, Y):\n",
    "    # Select class #0\n",
    "    X_0 = X[Y == i]\n",
    "    Y_0 = np.zeros((len(X_0)))\n",
    "    # Select class #1\n",
    "    X_1 = X[Y == j]\n",
    "    Y_1 = np.ones((len(X_1)))\n",
    "    # Join the two classes to make the set\n",
    "    X_2classes = np.vstack((X_0, X_1))\n",
    "    Y_2classes = np.append(Y_0, Y_1)\n",
    "    return X_2classes, Y_2classes\n",
    "\n",
    "# one-vs-one classifier\n",
    "from sklearn import linear_model\n",
    "def one_vs_one_classifier(train_features, train_labels):\n",
    "    clf = linear_model.SGDClassifier(random_state=1)\n",
    "    clf.fit(train_features, train_labels)\n",
    "    return clf\n",
    "\n",
    "\n",
    "def multiclass_classify_using_sklearn(X_train, Y_train, X_test, Y_test):\n",
    "    \n",
    "    classifiers = []\n",
    "    \n",
    "    # For each pair of classes:\n",
    "    for i in range(0, 9):\n",
    "        for j in range(i+1, 10):\n",
    "            print(\"Training pair of classes:\", i, j)\n",
    "            \n",
    "            # Extract the train features and labels of the two classes\n",
    "            train_features, train_labels = extract_2classes_with_binary_labels(i, j, X_train, Y_train)\n",
    "            \n",
    "            # Let us make each one-vs-one classifier\n",
    "            # Train the classifier on these features and labels\n",
    "            clf = one_vs_one_classifier(train_features, train_labels)\n",
    "            classifiers.append(clf)\n",
    "    \n",
    "    # Find each classifier's prediction\n",
    "    predicted_classes_from_all_classifiers = np.zeros((len(X_test), len(classifiers)), dtype=int)\n",
    "    for c, clf in enumerate(classifiers):\n",
    "        preds = np.asarray(clf.predict(X_test), dtype=int)\n",
    "        predicted_classes_from_all_classifiers[:, c] = actual_labels[preds, c]\n",
    "\n",
    "    # Take majority vote for each sample\n",
    "    predicted_classes = []\n",
    "    for p in predicted_classes_from_all_classifiers:\n",
    "        predicted_classes.append(np.argmax(np.bincount(p)))\n",
    "    \n",
    "    # Find accuracy\n",
    "    test_accuracy = np.mean(predicted_classes == Y_test)\n",
    "    print(test_accuracy)"
   ]
  },
  {
   "cell_type": "code",
   "execution_count": null,
   "metadata": {},
   "outputs": [],
   "source": [
    "multiclass_classify_using_sklearn(train_features, train_labels, test_features, test_labels)"
   ]
  }
 ],
 "metadata": {
  "kernelspec": {
   "display_name": "Python 3",
   "language": "python",
   "name": "python3"
  },
  "language_info": {
   "codemirror_mode": {
    "name": "ipython",
    "version": 3
   },
   "file_extension": ".py",
   "mimetype": "text/x-python",
   "name": "python",
   "nbconvert_exporter": "python",
   "pygments_lexer": "ipython3",
   "version": "3.6.4"
  }
 },
 "nbformat": 4,
 "nbformat_minor": 2
}
