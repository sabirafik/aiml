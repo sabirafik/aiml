{
 "cells": [
  {
   "cell_type": "markdown",
   "metadata": {
    "colab_type": "text",
    "id": "prtS4OZr00-W"
   },
   "source": [
    "## Relevance Feedback\n",
    "\n",
    "The significant part of any Information retrieval system is to make it responsive to user interaction. <br>\n",
    "Hence our system needs to incorporate the feedback and refine the results adapted to the user input on the fly.<br>\n",
    "Few of the use-cases would be, search engines like Google, Bing and other websites like Youtube <br> which personalize the content for a better user experience.\n",
    "\n",
    "\n",
    "In this experiment we would implement two algorithms for achieving adaptive retrieval based on user input.<br>\n",
    "#### Dataset - Wikipedia documents, a total of 2866 ranging over 10 different categories.\n",
    "\n",
    "1. #### Weighted KNN \n",
    "    - Random list of wikipedia documents (varied category) are displayed to the User. \n",
    "    - The user based on his interest clicks on any document belonging to a particular category. \n",
    "    - We implement a weighted KNN to get a ranking of the relevant documents based on the user input.\n",
    "    - The user then again clicks a document of the relevant documents.\n",
    "    - We update the weight vector based on this feedback to get a new ranking which ensures better recall than before\n",
    "\n",
    "2. #### Rocchio Algorithm\n",
    "    - Random list of documents are displayed.\n",
    "    - The user clicks on a particular document and also decides the relevant and non relevant documents of the displayed ones.\n",
    "    - The initial document clicked is our Query $q$ (initial centroid for relevant documents). <br> Relevant Documents are $D_{r}$, Non relevant ones are $D_{nr}$.\n",
    "    - We use the following formula to converge to a new centroid for the relevant documents.<br> This ensures better precision with every iteration\n",
    "    \n",
    "    $$q_{t+1} = a . q_{t} + b. (\\frac{1}{|D_{r}|} \\sum_{d_{j} \\in D_{r}} d_{j}) - c. (\\frac{1}{|D_{nr}|} \\sum_{d_{k} \\in D_{nr}} d_{k})$$\n",
    "    \n",
    "    - Display the nearest neighbours of the new centroid $q_{t+1}$, which would be more relevant"
   ]
  },
  {
   "cell_type": "code",
   "execution_count": 1,
   "metadata": {
    "colab": {
     "autoexec": {
      "startup": false,
      "wait_interval": 0
     }
    },
    "colab_type": "code",
    "id": "_X-Y2YMr00-a"
   },
   "outputs": [],
   "source": [
    "from lxml import etree\n",
    "from glob import glob\n",
    "from sklearn.feature_extraction.text import TfidfVectorizer\n",
    "import sys\n",
    "import numpy as np\n",
    "import random\n",
    "from bs4 import BeautifulSoup as Soup\n",
    "from collections import Counter\n",
    "from sklearn.neighbors import NearestNeighbors\n",
    "import pandas as pd\n",
    "import os\n",
    "from IPython.display import clear_output\n",
    "from IPython.display import display, HTML\n",
    "import matplotlib.pyplot as plt"
   ]
  },
  {
   "cell_type": "markdown",
   "metadata": {
    "colab_type": "text",
    "id": "mcSJym5D00-m"
   },
   "source": [
    "## Dataset Description ##\n",
    "\n",
    "\n",
    "1. The dataset comprises 2866 Wikipedia articles belonging to a total of 10 categories.\n",
    "2. Each of the article is given a query ID based on it's category."
   ]
  },
  {
   "cell_type": "code",
   "execution_count": 2,
   "metadata": {
    "colab": {
     "autoexec": {
      "startup": false,
      "wait_interval": 0
     },
     "base_uri": "https://localhost:8080/",
     "height": 54
    },
    "colab_type": "code",
    "executionInfo": {
     "elapsed": 3660,
     "status": "ok",
     "timestamp": 1525499157258,
     "user": {
      "displayName": "Priyanka Gaddam",
      "photoUrl": "https://lh3.googleusercontent.com/a/default-user=s128",
      "userId": "102560758347233399972"
     },
     "user_tz": -330
    },
    "id": "H2l1IX2v00-o",
    "outputId": "893dbf4e-8e96-4455-ed6c-88efeab25874"
   },
   "outputs": [
    {
     "name": "stdout",
     "output_type": "stream",
     "text": [
      "The following 10 categories ['art\\n', 'biology\\n', 'geography\\n', 'history\\n', 'literature\\n', 'media\\n', 'music\\n', 'royalty\\n', 'sport\\n', 'warfare\\n']\n"
     ]
    }
   ],
   "source": [
    "f = open('wikipedia_dataset/categories.list')\n",
    "cats = f.readlines()\n",
    "f = open('wikipedia_dataset/categories_originalids.list')\n",
    "cat = f.readlines()\n",
    "print('The following ' + str(len(cats)) + ' categories', cats)"
   ]
  },
  {
   "cell_type": "markdown",
   "metadata": {
    "colab_type": "text",
    "id": "aVlMqadF00-2"
   },
   "source": [
    "## Parsing the XML data files "
   ]
  },
  {
   "cell_type": "code",
   "execution_count": 4,
   "metadata": {
    "colab": {
     "autoexec": {
      "startup": false,
      "wait_interval": 0
     }
    },
    "colab_type": "code",
    "id": "Q_auParQ00-4"
   },
   "outputs": [],
   "source": [
    "def parseLog(file, docs, qid):\n",
    "    handler = open(file, encoding=\"utf8\").read()\n",
    "    soup = Soup(handler,'lxml')\n",
    "    #print(soup.findAll('text')[0])\n",
    "    txt = soup.findAll('text')[0].text       \n",
    "    for message in soup.findAll('document'):\n",
    "        msg_attrs = dict(message.attrs)\n",
    "        qid.append(int(msg_attrs['cat']))\n",
    "        docs .append(msg_attrs['name'] + ' ' + txt)\n",
    "\n",
    "lis = glob('wikipedia_dataset/texts/*')\n",
    "docs = []\n",
    "qid = []\n",
    "for i in range(len(lis)):\n",
    "    parseLog(lis[i], docs, qid)\n"
   ]
  },
  {
   "cell_type": "code",
   "execution_count": 5,
   "metadata": {
    "colab": {
     "autoexec": {
      "startup": false,
      "wait_interval": 0
     },
     "base_uri": "https://localhost:8080/",
     "height": 104
    },
    "colab_type": "code",
    "executionInfo": {
     "elapsed": 1176,
     "status": "ok",
     "timestamp": 1525499605974,
     "user": {
      "displayName": "Priyanka Gaddam",
      "photoUrl": "https://lh3.googleusercontent.com/a/default-user=s128",
      "userId": "102560758347233399972"
     },
     "user_tz": -330
    },
    "id": "uC5zJJMy00_A",
    "outputId": "5d8d7101-18b1-4b42-e206-47eed64d075a"
   },
   "outputs": [
    {
     "name": "stdout",
     "output_type": "stream",
     "text": [
      "Sample document: 19 Witchfinder_General_(film) \n",
      "The year is 1645 - the middle of the English Civil War. Matthew Hopkins ...\n"
     ]
    }
   ],
   "source": [
    "print('Sample document:', qid[100], docs[100][:100] + '...')"
   ]
  },
  {
   "cell_type": "markdown",
   "metadata": {
    "colab_type": "text",
    "id": "8TW0-0wt00_I"
   },
   "source": [
    "## Construct feature vector from documents"
   ]
  },
  {
   "cell_type": "code",
   "execution_count": 6,
   "metadata": {
    "colab": {
     "autoexec": {
      "startup": false,
      "wait_interval": 0
     }
    },
    "colab_type": "code",
    "id": "MXWWTbcr00_K"
   },
   "outputs": [],
   "source": [
    "stoplist = open('wikipedia_dataset/stopwords.txt').read().splitlines()"
   ]
  },
  {
   "cell_type": "code",
   "execution_count": 7,
   "metadata": {
    "colab": {
     "autoexec": {
      "startup": false,
      "wait_interval": 0
     }
    },
    "colab_type": "code",
    "id": "vxKov96n00_Q"
   },
   "outputs": [],
   "source": [
    "## TF-IDF Vectorizer\n",
    "vectorizer = TfidfVectorizer(stop_words=stoplist, min_df=0.001)\n",
    "matrix = vectorizer.fit_transform(docs)\n",
    "doc_vectors = matrix.todense()\n",
    "doc_vectors = np.array(doc_vectors)\n",
    "vocab = vectorizer.vocabulary_"
   ]
  },
  {
   "cell_type": "markdown",
   "metadata": {
    "colab_type": "text",
    "id": "JNS3cO2m00_Y"
   },
   "source": [
    "### Read about min_df parameter used above.\n",
    "Vary the parameter to change the feature and see it's effect on the final results."
   ]
  },
  {
   "cell_type": "code",
   "execution_count": 8,
   "metadata": {
    "colab": {
     "autoexec": {
      "startup": false,
      "wait_interval": 0
     },
     "base_uri": "https://localhost:8080/",
     "height": 121
    },
    "colab_type": "code",
    "executionInfo": {
     "elapsed": 904,
     "status": "ok",
     "timestamp": 1525499619154,
     "user": {
      "displayName": "Priyanka Gaddam",
      "photoUrl": "https://lh3.googleusercontent.com/a/default-user=s128",
      "userId": "102560758347233399972"
     },
     "user_tz": -330
    },
    "id": "Yv0zIPBu00_a",
    "outputId": "86f1a663-5dd5-48e3-c343-3d7fe0c8ceb0"
   },
   "outputs": [
    {
     "name": "stdout",
     "output_type": "stream",
     "text": [
      "Length of the vocabulary: 24841\n",
      "A sample 24841 dimensional document vector: [0.         0.01382104 0.         0.         0.         0.\n",
      " 0.         0.         0.02731542 0.02610012 0.02628443 0.0767475\n",
      " 0.05052665 0.         0.01373972 0.         0.         0.\n",
      " 0.         0.         0.         0.         0.         0.\n",
      " 0.         0.         0.         0.         0.         0.\n",
      " 0.         0.         0.         0.         0.         0.\n",
      " 0.         0.         0.         0.         0.         0.\n",
      " 0.         0.         0.         0.         0.         0.\n",
      " 0.         0.         0.         0.         0.         0.\n",
      " 0.         0.         0.         0.         0.         0.\n",
      " 0.         0.         0.         0.         0.         0.\n",
      " 0.         0.         0.         0.         0.         0.\n",
      " 0.         0.         0.         0.         0.         0.\n",
      " 0.         0.         0.         0.         0.         0.\n",
      " 0.         0.         0.         0.         0.         0.\n",
      " 0.         0.01595178 0.         0.         0.         0.\n",
      " 0.         0.         0.         0.        ]\n"
     ]
    }
   ],
   "source": [
    "print('Length of the vocabulary:', len(vocab))\n",
    "print('A sample ' +str(len(vocab)) +' dimensional document vector:', doc_vectors[1][:100])"
   ]
  },
  {
   "cell_type": "code",
   "execution_count": 9,
   "metadata": {
    "colab": {
     "autoexec": {
      "startup": false,
      "wait_interval": 0
     },
     "base_uri": "https://localhost:8080/",
     "height": 34
    },
    "colab_type": "code",
    "executionInfo": {
     "elapsed": 1620,
     "status": "ok",
     "timestamp": 1525499624130,
     "user": {
      "displayName": "Priyanka Gaddam",
      "photoUrl": "https://lh3.googleusercontent.com/a/default-user=s128",
      "userId": "102560758347233399972"
     },
     "user_tz": -330
    },
    "id": "OcZAAhVN00_o",
    "outputId": "4f207754-bcb8-49a9-e503-24a3f4c8b185"
   },
   "outputs": [
    {
     "name": "stdout",
     "output_type": "stream",
     "text": [
      "(2866, 24841) 2866\n"
     ]
    }
   ],
   "source": [
    "print(doc_vectors.shape, len(qid))"
   ]
  },
  {
   "cell_type": "markdown",
   "metadata": {
    "colab_type": "text",
    "id": "Ks7ZCRnf00_4"
   },
   "source": [
    "### 1. Weighted KNN \n",
    "- Initially display random 20 documents and get user click\n",
    "- Run the KNN Algorithm and chose 100 nearest neighbours\n",
    "- Define a weight matrix to get the ranking of the 100 relavent vectors based on similarity\n",
    "\n",
    "Given $m$ - dimensional query $q$ and document $d_{i}$, the weighted similarity is calculated as follows <br> \n",
    "$q = (q_{1}, q_{2}, \\cdots, q_{m})$ <br>\n",
    "$d_{i} = (d_{1}, d_{2}, \\cdots, c_{m})$ <br>\n",
    "$$Similarity = w^T d'_{i}$$ where ,\n",
    "$$d'_{i} = \\frac{q * d_{i}}{\\parallel q \\parallel \\parallel d_{i} \\parallel}  $$"
   ]
  },
  {
   "cell_type": "code",
   "execution_count": 10,
   "metadata": {
    "colab": {
     "autoexec": {
      "startup": false,
      "wait_interval": 0
     },
     "base_uri": "https://localhost:8080/",
     "height": 34
    },
    "colab_type": "code",
    "executionInfo": {
     "elapsed": 952,
     "status": "ok",
     "timestamp": 1525499634092,
     "user": {
      "displayName": "Priyanka Gaddam",
      "photoUrl": "https://lh3.googleusercontent.com/a/default-user=s128",
      "userId": "102560758347233399972"
     },
     "user_tz": -330
    },
    "id": "XElrswMo00_6",
    "outputId": "06238851-777e-4496-d50e-18f9463c55c5"
   },
   "outputs": [
    {
     "name": "stdout",
     "output_type": "stream",
     "text": [
      "(2866, 100)\n"
     ]
    }
   ],
   "source": [
    "## Fit KNN\n",
    "KNN = NearestNeighbors(100, 0.4, metric = 'cosine')\n",
    "KNN.fit(doc_vectors)\n",
    "neighbours = KNN.kneighbors(doc_vectors,return_distance=False)\n",
    "print(neighbours.shape)"
   ]
  },
  {
   "cell_type": "code",
   "execution_count": 11,
   "metadata": {
    "colab": {
     "autoexec": {
      "startup": false,
      "wait_interval": 0
     }
    },
    "colab_type": "code",
    "id": "d74_Jk9-01AE"
   },
   "outputs": [],
   "source": [
    "# Number of articles displayed at max 100\n",
    "num = 10\n",
    "div = 1 # Change the value to see the effect"
   ]
  },
  {
   "cell_type": "code",
   "execution_count": 12,
   "metadata": {
    "colab": {
     "autoexec": {
      "startup": false,
      "wait_interval": 0
     },
     "base_uri": "https://localhost:8080/",
     "height": 759
    },
    "colab_type": "code",
    "executionInfo": {
     "elapsed": 4346,
     "status": "ok",
     "timestamp": 1525499659438,
     "user": {
      "displayName": "Priyanka Gaddam",
      "photoUrl": "https://lh3.googleusercontent.com/a/default-user=s128",
      "userId": "102560758347233399972"
     },
     "user_tz": -330
    },
    "id": "4wsVDV7P01AO",
    "outputId": "11e8e7b1-a700-46ef-ee11-69aa15877f86"
   },
   "outputs": [
    {
     "data": {
      "text/html": [
       "<table border=\"1\" class=\"dataframe\">\n",
       "  <thead>\n",
       "    <tr style=\"text-align: right;\">\n",
       "      <th></th>\n",
       "      <th>index</th>\n",
       "      <th>Article</th>\n",
       "      <th>category</th>\n",
       "    </tr>\n",
       "  </thead>\n",
       "  <tbody>\n",
       "    <tr>\n",
       "      <th>0</th>\n",
       "      <td>2718</td>\n",
       "      <td>Peterborough \\nThe City of Peterborough (inclu...</td>\n",
       "      <td>Geography and places</td>\n",
       "    </tr>\n",
       "    <tr>\n",
       "      <th>1</th>\n",
       "      <td>624</td>\n",
       "      <td>Henry_James \\nAlthough any selection of James'...</td>\n",
       "      <td>Literature and theatre</td>\n",
       "    </tr>\n",
       "    <tr>\n",
       "      <th>2</th>\n",
       "      <td>966</td>\n",
       "      <td>History_of_the_National_Hockey_League_(1942–19...</td>\n",
       "      <td>Sport and recreation</td>\n",
       "    </tr>\n",
       "    <tr>\n",
       "      <th>3</th>\n",
       "      <td>127</td>\n",
       "      <td>Stanford_Memorial_Church \\nAccording to archit...</td>\n",
       "      <td>Art, architecture and archaeology</td>\n",
       "    </tr>\n",
       "    <tr>\n",
       "      <th>4</th>\n",
       "      <td>126</td>\n",
       "      <td>Stanford_Memorial_Church \\nThe Rev. Scotty McL...</td>\n",
       "      <td>Art, architecture and archaeology</td>\n",
       "    </tr>\n",
       "    <tr>\n",
       "      <th>5</th>\n",
       "      <td>2008</td>\n",
       "      <td>William_IV_of_the_United_Kingdom \\nWhen George...</td>\n",
       "      <td>Royalty, nobility and heraldry</td>\n",
       "    </tr>\n",
       "    <tr>\n",
       "      <th>6</th>\n",
       "      <td>1716</td>\n",
       "      <td>George_VI_of_the_United_Kingdom \\nAlbert assum...</td>\n",
       "      <td>Royalty, nobility and heraldry</td>\n",
       "    </tr>\n",
       "    <tr>\n",
       "      <th>7</th>\n",
       "      <td>2814</td>\n",
       "      <td>James_II_of_England \\nJames's time in France h...</td>\n",
       "      <td>Royalty, nobility and heraldry</td>\n",
       "    </tr>\n",
       "    <tr>\n",
       "      <th>8</th>\n",
       "      <td>1074</td>\n",
       "      <td>Richard_II_of_England \\nThe threat of a French...</td>\n",
       "      <td>Royalty, nobility and heraldry</td>\n",
       "    </tr>\n",
       "    <tr>\n",
       "      <th>9</th>\n",
       "      <td>1073</td>\n",
       "      <td>Richard_II_of_England \\nAlthough the poll tax ...</td>\n",
       "      <td>Royalty, nobility and heraldry</td>\n",
       "    </tr>\n",
       "  </tbody>\n",
       "</table>"
      ],
      "text/plain": [
       "<IPython.core.display.HTML object>"
      ]
     },
     "metadata": {},
     "output_type": "display_data"
    },
    {
     "name": "stdout",
     "output_type": "stream",
     "text": [
      "Select the index of the article you would like to read or type 'stop' if you want end the searchstop\n",
      "Enjoy your Article\n"
     ]
    },
    {
     "data": {
      "text/plain": [
       "Text(0,0.5,'Score given by you')"
      ]
     },
     "execution_count": 12,
     "metadata": {},
     "output_type": "execute_result"
    },
    {
     "data": {
      "image/png": "[encoded data removed]",
      "text/plain": [
       "<matplotlib.figure.Figure at 0xc6a95c0>"
      ]
     },
     "metadata": {},
     "output_type": "display_data"
    }
   ],
   "source": [
    "def to_display(doc_ids, init= False):\n",
    "    if init == True:\n",
    "        ix = random.sample(range(0, len(doc_vectors)), num)\n",
    "    else:\n",
    "        ix = doc_ids\n",
    "    \n",
    "    df = pd.DataFrame(columns=['index', 'Article','category'])\n",
    "    df['index'] = ix\n",
    "    df['Article'] = [docs[i][:100] for i in ix]\n",
    "    df['category'] = [cat[qid[i]-1][:-1] for i in ix] \n",
    "    clear_output()\n",
    "    display(HTML(df.to_html()))\n",
    "    return ix\n",
    "\n",
    "def get_user_choice(q):\n",
    "    doc_id = random.choice(q)\n",
    "    return doc_id\n",
    "\n",
    "index = to_display([],init= True)\n",
    "doc_id = input(\"Select the index of the article you would like to read or type 'stop' if you want end the search\")\n",
    "doc_id = int(doc_id)\n",
    "res = []\n",
    "ctr = 0\n",
    "## initialize the weight vector to ones\n",
    "weights = np.ones((doc_vectors.shape[1],1))\n",
    "while (True):   \n",
    "    query_doc = doc_vectors[doc_id].reshape(1, doc_vectors.shape[1])\n",
    "    relevant_docs_ix = neighbours[doc_id]\n",
    "    relevant_docs = doc_vectors[relevant_docs_ix]\n",
    "    ## Calculate Similarity\n",
    "    new_relevance = (query_doc[0] * relevant_docs) / (np.linalg.norm(relevant_docs) * np.linalg.norm(query_doc) )\n",
    "    similarity  = np.matmul(new_relevance , weights)\n",
    "    ## Return the num most ranked doc ids\n",
    "    ranked_docs_ix = relevant_docs_ix[np.argsort(similarity[:,0])]\n",
    "    index = to_display(ranked_docs_ix[:num])\n",
    "    doc_id = input(\"Select the index of the article you would like to read or type 'stop' if you want end the search\")\n",
    "    if doc_id == 'stop':\n",
    "        break    \n",
    "    doc_id = int(doc_id)\n",
    "    weights = weights + doc_vectors[doc_id].reshape(doc_vectors.shape[1], 1)\n",
    "    weights = weights/ np.linalg.norm(weights)\n",
    "    ctr += 1\n",
    "    res_ = input(\"Give the precision count/a number between 1-10 about how satisfied are you with the results\")\n",
    "    res.append(res_)\n",
    "print('Enjoy your Article')\n",
    "\n",
    "plt.plot(res)\n",
    "plt.xlabel(\"number of searches\")\n",
    "plt.ylabel(\"Score given by you\")"
   ]
  },
  {
   "cell_type": "markdown",
   "metadata": {
    "colab_type": "text",
    "id": "vr-Q32V301AY"
   },
   "source": [
    "###### 2. Rocchio Algorithm\n",
    "- Initially random articles are displayed\n",
    "- Select an index value based on your choice\n",
    "- Select all the indices of relevant documents\n",
    "- Update the centroid of relavant vector as shown in the formula above\n",
    "- Display the nearest neighbours of the relavant vector\n",
    "\n",
    "- $alpha$- how close to relavant \n",
    "- $beta$ - how far from non relevant\n",
    "\n",
    "Ideally we would like to have high $alpha$ and low $beta$"
   ]
  },
  {
   "cell_type": "code",
   "execution_count": 13,
   "metadata": {
    "colab": {
     "autoexec": {
      "startup": false,
      "wait_interval": 0
     },
     "base_uri": "https://localhost:8080/",
     "height": 398
    },
    "colab_type": "code",
    "executionInfo": {
     "elapsed": 3542,
     "status": "ok",
     "timestamp": 1525499686704,
     "user": {
      "displayName": "Priyanka Gaddam",
      "photoUrl": "https://lh3.googleusercontent.com/a/default-user=s128",
      "userId": "102560758347233399972"
     },
     "user_tz": -330
    },
    "id": "aA-JfYdu01Aa",
    "outputId": "4e223754-7d1d-4db0-e9fb-64122cf679a7"
   },
   "outputs": [
    {
     "data": {
      "text/html": [
       "<table border=\"1\" class=\"dataframe\">\n",
       "  <thead>\n",
       "    <tr style=\"text-align: right;\">\n",
       "      <th></th>\n",
       "      <th>index</th>\n",
       "      <th>Article</th>\n",
       "      <th>category</th>\n",
       "    </tr>\n",
       "  </thead>\n",
       "  <tbody>\n",
       "    <tr>\n",
       "      <th>0</th>\n",
       "      <td>2002</td>\n",
       "      <td>Macaroni_Penguin \\nThe Macaroni Penguin is a l...</td>\n",
       "      <td>Biology</td>\n",
       "    </tr>\n",
       "    <tr>\n",
       "      <th>1</th>\n",
       "      <td>2844</td>\n",
       "      <td>A_Very_Merry_Unauthorized_Children's_Scientolo...</td>\n",
       "      <td>Literature and theatre</td>\n",
       "    </tr>\n",
       "    <tr>\n",
       "      <th>2</th>\n",
       "      <td>981</td>\n",
       "      <td>Over_the_Edge_(1999) \\nOver the Edge was the c...</td>\n",
       "      <td>Sport and recreation</td>\n",
       "    </tr>\n",
       "    <tr>\n",
       "      <th>3</th>\n",
       "      <td>931</td>\n",
       "      <td>Ice_hockey_at_the_Olympic_Games \\nBefore 1998,...</td>\n",
       "      <td>Sport and recreation</td>\n",
       "    </tr>\n",
       "    <tr>\n",
       "      <th>4</th>\n",
       "      <td>127</td>\n",
       "      <td>Stanford_Memorial_Church \\nAccording to archit...</td>\n",
       "      <td>Art, architecture and archaeology</td>\n",
       "    </tr>\n",
       "    <tr>\n",
       "      <th>5</th>\n",
       "      <td>1562</td>\n",
       "      <td>Plunketts_Creek_(Loyalsock_Creek) \\nThe source...</td>\n",
       "      <td>Geography and places</td>\n",
       "    </tr>\n",
       "    <tr>\n",
       "      <th>6</th>\n",
       "      <td>1809</td>\n",
       "      <td>W._S._Gilbert \\nIn 1871, John Hollingshead com...</td>\n",
       "      <td>Literature and theatre</td>\n",
       "    </tr>\n",
       "    <tr>\n",
       "      <th>7</th>\n",
       "      <td>2841</td>\n",
       "      <td>I_Know_Why_the_Caged_Bird_Sings \\nBefore writi...</td>\n",
       "      <td>Literature and theatre</td>\n",
       "    </tr>\n",
       "    <tr>\n",
       "      <th>8</th>\n",
       "      <td>1897</td>\n",
       "      <td>The_Last_Temptation_of_Krust \\nIn addition to ...</td>\n",
       "      <td>Media</td>\n",
       "    </tr>\n",
       "    <tr>\n",
       "      <th>9</th>\n",
       "      <td>534</td>\n",
       "      <td>Sound_film \\nWhile the introduction of sound l...</td>\n",
       "      <td>Media</td>\n",
       "    </tr>\n",
       "  </tbody>\n",
       "</table>"
      ],
      "text/plain": [
       "<IPython.core.display.HTML object>"
      ]
     },
     "metadata": {},
     "output_type": "display_data"
    },
    {
     "name": "stdout",
     "output_type": "stream",
     "text": [
      "Select the index of the article you would like to read or type 'stop' if you want end the search534\n",
      "Enter the indices, comma separated for relevant documents\n",
      "stop\n"
     ]
    },
    {
     "ename": "ValueError",
     "evalue": "invalid literal for int() with base 10: 'stop'",
     "output_type": "error",
     "traceback": [
      "\u001b[1;31m---------------------------------------------------------------------------\u001b[0m",
      "\u001b[1;31mValueError\u001b[0m                                Traceback (most recent call last)",
      "\u001b[1;32m<ipython-input-13-250eaeb463d3>\u001b[0m in \u001b[0;36m<module>\u001b[1;34m()\u001b[0m\n\u001b[0;32m      7\u001b[0m         \u001b[1;32mbreak\u001b[0m\u001b[1;33m\u001b[0m\u001b[0m\n\u001b[0;32m      8\u001b[0m     \u001b[0mprint\u001b[0m\u001b[1;33m(\u001b[0m\u001b[1;34m\"Enter the indices, comma separated for relevant documents\"\u001b[0m\u001b[1;33m)\u001b[0m\u001b[1;33m\u001b[0m\u001b[0m\n\u001b[1;32m----> 9\u001b[1;33m     \u001b[0mR\u001b[0m \u001b[1;33m=\u001b[0m \u001b[1;33m[\u001b[0m\u001b[0mint\u001b[0m\u001b[1;33m(\u001b[0m\u001b[0mx\u001b[0m\u001b[1;33m)\u001b[0m \u001b[1;32mfor\u001b[0m \u001b[0mx\u001b[0m \u001b[1;32min\u001b[0m \u001b[0minput\u001b[0m\u001b[1;33m(\u001b[0m\u001b[1;33m)\u001b[0m\u001b[1;33m.\u001b[0m\u001b[0msplit\u001b[0m\u001b[1;33m(\u001b[0m\u001b[1;34m','\u001b[0m\u001b[1;33m)\u001b[0m\u001b[1;33m]\u001b[0m\u001b[1;33m\u001b[0m\u001b[0m\n\u001b[0m\u001b[0;32m     10\u001b[0m     \u001b[0mNR\u001b[0m \u001b[1;33m=\u001b[0m \u001b[1;33m[\u001b[0m\u001b[0mi\u001b[0m \u001b[1;32mfor\u001b[0m \u001b[0mi\u001b[0m \u001b[1;32min\u001b[0m \u001b[0mindex\u001b[0m \u001b[1;32mif\u001b[0m \u001b[0mi\u001b[0m \u001b[1;32mnot\u001b[0m \u001b[1;32min\u001b[0m \u001b[0mR\u001b[0m\u001b[1;33m]\u001b[0m\u001b[1;33m\u001b[0m\u001b[0m\n\u001b[0;32m     11\u001b[0m     \u001b[0mdoc_id\u001b[0m \u001b[1;33m=\u001b[0m \u001b[0mint\u001b[0m\u001b[1;33m(\u001b[0m\u001b[0mdoc_id\u001b[0m\u001b[1;33m)\u001b[0m\u001b[1;33m\u001b[0m\u001b[0m\n",
      "\u001b[1;32m<ipython-input-13-250eaeb463d3>\u001b[0m in \u001b[0;36m<listcomp>\u001b[1;34m(.0)\u001b[0m\n\u001b[0;32m      7\u001b[0m         \u001b[1;32mbreak\u001b[0m\u001b[1;33m\u001b[0m\u001b[0m\n\u001b[0;32m      8\u001b[0m     \u001b[0mprint\u001b[0m\u001b[1;33m(\u001b[0m\u001b[1;34m\"Enter the indices, comma separated for relevant documents\"\u001b[0m\u001b[1;33m)\u001b[0m\u001b[1;33m\u001b[0m\u001b[0m\n\u001b[1;32m----> 9\u001b[1;33m     \u001b[0mR\u001b[0m \u001b[1;33m=\u001b[0m \u001b[1;33m[\u001b[0m\u001b[0mint\u001b[0m\u001b[1;33m(\u001b[0m\u001b[0mx\u001b[0m\u001b[1;33m)\u001b[0m \u001b[1;32mfor\u001b[0m \u001b[0mx\u001b[0m \u001b[1;32min\u001b[0m \u001b[0minput\u001b[0m\u001b[1;33m(\u001b[0m\u001b[1;33m)\u001b[0m\u001b[1;33m.\u001b[0m\u001b[0msplit\u001b[0m\u001b[1;33m(\u001b[0m\u001b[1;34m','\u001b[0m\u001b[1;33m)\u001b[0m\u001b[1;33m]\u001b[0m\u001b[1;33m\u001b[0m\u001b[0m\n\u001b[0m\u001b[0;32m     10\u001b[0m     \u001b[0mNR\u001b[0m \u001b[1;33m=\u001b[0m \u001b[1;33m[\u001b[0m\u001b[0mi\u001b[0m \u001b[1;32mfor\u001b[0m \u001b[0mi\u001b[0m \u001b[1;32min\u001b[0m \u001b[0mindex\u001b[0m \u001b[1;32mif\u001b[0m \u001b[0mi\u001b[0m \u001b[1;32mnot\u001b[0m \u001b[1;32min\u001b[0m \u001b[0mR\u001b[0m\u001b[1;33m]\u001b[0m\u001b[1;33m\u001b[0m\u001b[0m\n\u001b[0;32m     11\u001b[0m     \u001b[0mdoc_id\u001b[0m \u001b[1;33m=\u001b[0m \u001b[0mint\u001b[0m\u001b[1;33m(\u001b[0m\u001b[0mdoc_id\u001b[0m\u001b[1;33m)\u001b[0m\u001b[1;33m\u001b[0m\u001b[0m\n",
      "\u001b[1;31mValueError\u001b[0m: invalid literal for int() with base 10: 'stop'"
     ]
    }
   ],
   "source": [
    "alpha = 1.0\n",
    "beta = 0.5\n",
    "index = to_display([],init= True)\n",
    "while(True):\n",
    "    doc_id = input(\"Select the index of the article you would like to read or type 'stop' if you want end the search\")\n",
    "    if doc_id == 'stop':\n",
    "        break\n",
    "    print(\"Enter the indices, comma separated for relevant documents\")\n",
    "    R = [int(x) for x in input().split(',')]\n",
    "    NR = [i for i in index if i not in R]\n",
    "    doc_id = int(doc_id)\n",
    "    query_doc = doc_vectors[doc_id].reshape(1, doc_vectors.shape[1])\n",
    "    R_docs = doc_vectors[R]\n",
    "    NR_docs = doc_vectors[NR]\n",
    "\n",
    "    q_new = query_doc + (alpha * np.sum(R_docs, 0)/len(R)) - (beta * np.sum(NR_docs, 0)/len(NR))\n",
    "    print(q_new.shape)\n",
    "    retrieved = KNN.kneighbors(q_new, return_distance=False)\n",
    "    index = to_display(retrieved[0][:num])\n",
    "    \n",
    "print('Enjoy your article')"
   ]
  },
  {
   "cell_type": "code",
   "execution_count": 0,
   "metadata": {
    "colab": {
     "autoexec": {
      "startup": false,
      "wait_interval": 0
     }
    },
    "colab_type": "code",
    "id": "32-00nh001Ai"
   },
   "outputs": [],
   "source": []
  }
 ],
 "metadata": {
  "colab": {
   "default_view": {},
   "name": "Experiment2_A.ipynb",
   "provenance": [],
   "version": "0.3.2",
   "views": {}
  },
  "kernelspec": {
   "display_name": "Python 3",
   "language": "python",
   "name": "python3"
  },
  "language_info": {
   "codemirror_mode": {
    "name": "ipython",
    "version": 3
   },
   "file_extension": ".py",
   "mimetype": "text/x-python",
   "name": "python",
   "nbconvert_exporter": "python",
   "pygments_lexer": "ipython3",
   "version": "3.6.4"
  }
 },
 "nbformat": 4,
 "nbformat_minor": 1
}
